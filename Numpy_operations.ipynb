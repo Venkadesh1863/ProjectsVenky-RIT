{
  "nbformat": 4,
  "nbformat_minor": 0,
  "metadata": {
    "colab": {
      "provenance": [],
      "authorship_tag": "ABX9TyMPO5JQX65IQ6WZV91TcEbR",
      "include_colab_link": true
    },
    "kernelspec": {
      "name": "python3",
      "display_name": "Python 3"
    },
    "language_info": {
      "name": "python"
    }
  },
  "cells": [
    {
      "cell_type": "markdown",
      "metadata": {
        "id": "view-in-github",
        "colab_type": "text"
      },
      "source": [
        "<a href=\"https://colab.research.google.com/github/Venkadesh1863/ProjectsVenky-RIT/blob/main/Numpy_operations.ipynb\" target=\"_parent\"><img src=\"https://colab.research.google.com/assets/colab-badge.svg\" alt=\"Open In Colab\"/></a>"
      ]
    },
    {
      "cell_type": "markdown",
      "source": [
        "**NumPy** is a Python package which means ‘Numerical Python’. It is the library for logical computing, which contains a powerful n-dimensional array object, gives tools to integrate C, C++ and so on. It is likewise helpful in linear based math, arbitrary number capacity and so on. NumPy exhibits can likewise be utilized as an effective multi-dimensional compartment for generic data."
      ],
      "metadata": {
        "id": "1i8tvpSXciRf"
      }
    },
    {
      "cell_type": "markdown",
      "source": [
        "**Operations on Numpy Array**\n"
      ],
      "metadata": {
        "id": "aaxmkE8hSnoO"
      }
    },
    {
      "cell_type": "markdown",
      "source": [
        "**Arithmetic Operations:**"
      ],
      "metadata": {
        "id": "R3zi0w6ySZie"
      }
    },
    {
      "cell_type": "code",
      "source": [
        "# Python code to perform arithmetic\n",
        "# operations on NumPy array\n",
        "\n",
        "\n",
        "import numpy as np\n",
        "\n",
        "\n",
        "# Initializing the array\n",
        "arr1 = np.arange(4, dtype = np.float_).reshape(2, 2)\n",
        "\n",
        "print('First array:')\n",
        "print(arr1)\n",
        "\n",
        "print('\\nSecond array:')\n",
        "arr2 = np.array([12, 12])\n",
        "print(arr2)\n",
        "\n",
        "print('\\nAdding the two arrays:')\n",
        "print(np.add(arr1, arr2))\n",
        "\n",
        "print('\\nSubtracting the two arrays:')\n",
        "print(np.subtract(arr1, arr2))\n",
        "\n",
        "print('\\nMultiplying the two arrays:')\n",
        "print(np.multiply(arr1, arr2))\n",
        "\n",
        "print('\\nDividing the two arrays:')\n",
        "print(np.divide(arr1, arr2))\n"
      ],
      "metadata": {
        "colab": {
          "base_uri": "https://localhost:8080/"
        },
        "id": "Pdte3i1NSqvO",
        "outputId": "918801c5-7b87-4347-ebaf-78883a9f2e01"
      },
      "execution_count": null,
      "outputs": [
        {
          "output_type": "stream",
          "name": "stdout",
          "text": [
            "First array:\n",
            "[[0. 1.]\n",
            " [2. 3.]]\n",
            "\n",
            "Second array:\n",
            "[12 12]\n",
            "\n",
            "Adding the two arrays:\n",
            "[[12. 13.]\n",
            " [14. 15.]]\n",
            "\n",
            "Subtracting the two arrays:\n",
            "[[-12. -11.]\n",
            " [-10.  -9.]]\n",
            "\n",
            "Multiplying the two arrays:\n",
            "[[ 0. 12.]\n",
            " [24. 36.]]\n",
            "\n",
            "Dividing the two arrays:\n",
            "[[0.         0.08333333]\n",
            " [0.16666667 0.25      ]]\n"
          ]
        }
      ]
    },
    {
      "cell_type": "markdown",
      "source": [
        "**Reciprocal Opearions**"
      ],
      "metadata": {
        "id": "KeRTMDI0S8ae"
      }
    },
    {
      "cell_type": "code",
      "source": [
        "# Python code to perform reciprocal operation\n",
        "# on NumPy array\n",
        "import numpy as np\n",
        "arr = np.array([25, 1.33, 1, 1, 100])\n",
        "\n",
        "print('Our array is:')\n",
        "print(arr)\n",
        "\n",
        "print('\\nAfter applying reciprocal function:')\n",
        "print(np.reciprocal(arr))\n",
        "\n",
        "arr2 = np.array([25], dtype = int)\n",
        "print('\\nThe second array is:')\n",
        "print(arr2)\n",
        "\n",
        "print('\\nAfter applying reciprocal function:')\n",
        "print(np.reciprocal(arr2))"
      ],
      "metadata": {
        "colab": {
          "base_uri": "https://localhost:8080/"
        },
        "id": "iu56GaWVTKpA",
        "outputId": "f02a7573-d239-4595-b066-b63d98005bf6"
      },
      "execution_count": null,
      "outputs": [
        {
          "output_type": "stream",
          "name": "stdout",
          "text": [
            "Our array is:\n",
            "[ 25.     1.33   1.     1.   100.  ]\n",
            "\n",
            "After applying reciprocal function:\n",
            "[0.04      0.7518797 1.        1.        0.01     ]\n",
            "\n",
            "The second array is:\n",
            "[25]\n",
            "\n",
            "After applying reciprocal function:\n",
            "[0]\n"
          ]
        }
      ]
    },
    {
      "cell_type": "markdown",
      "source": [
        "**Power Opearions**"
      ],
      "metadata": {
        "id": "unoucdmgTcQP"
      }
    },
    {
      "cell_type": "code",
      "source": [
        "# Python code to perform power operation\n",
        "# on NumPy array\n",
        "\n",
        "\n",
        "import numpy as np\n",
        "\n",
        "\n",
        "arr = np.array([5, 10, 15])\n",
        "\n",
        "print('First array is:')\n",
        "print(arr)\n",
        "\n",
        "print('\\nApplying power function:')\n",
        "print(np.power(arr, 2))\n",
        "\n",
        "print('\\nSecond array is:')\n",
        "arr1 = np.array([1, 2, 3])\n",
        "print(arr1)\n",
        "\n",
        "print('\\nApplying power function again:')\n",
        "print(np.power(arr, arr1))"
      ],
      "metadata": {
        "colab": {
          "base_uri": "https://localhost:8080/"
        },
        "id": "Swn7sVI2TfdP",
        "outputId": "1df2c774-e785-42f9-c1be-c1d1568214be"
      },
      "execution_count": null,
      "outputs": [
        {
          "output_type": "stream",
          "name": "stdout",
          "text": [
            "First array is:\n",
            "[ 5 10 15]\n",
            "\n",
            "Applying power function:\n",
            "[ 25 100 225]\n",
            "\n",
            "Second array is:\n",
            "[1 2 3]\n",
            "\n",
            "Applying power function again:\n",
            "[   5  100 3375]\n"
          ]
        }
      ]
    },
    {
      "cell_type": "markdown",
      "source": [
        "**MOD Operations**"
      ],
      "metadata": {
        "id": "a22r6mD6TjXO"
      }
    },
    {
      "cell_type": "code",
      "source": [
        "\n",
        "# Python code to perform mod function\n",
        "# on NumPy array\n",
        "\n",
        "\n",
        "import numpy as np\n",
        "\n",
        "\n",
        "arr = np.array([5, 15, 20])\n",
        "arr1 = np.array([2, 5, 9])\n",
        "\n",
        "print('First array:')\n",
        "print(arr)\n",
        "\n",
        "print('\\nSecond array:')\n",
        "print(arr1)\n",
        "\n",
        "print('\\nApplying mod() function:')\n",
        "print(np.mod(arr, arr1))\n",
        "\n",
        "print('\\nApplying remainder() function:')\n",
        "print(np.remainder(arr, arr1))"
      ],
      "metadata": {
        "colab": {
          "base_uri": "https://localhost:8080/"
        },
        "id": "sSgPIohNToEm",
        "outputId": "de079f59-abec-4dd0-d282-6e6de02435a7"
      },
      "execution_count": null,
      "outputs": [
        {
          "output_type": "stream",
          "name": "stdout",
          "text": [
            "First array:\n",
            "[ 5 15 20]\n",
            "\n",
            "Second array:\n",
            "[2 5 9]\n",
            "\n",
            "Applying mod() function:\n",
            "[1 0 2]\n",
            "\n",
            "Applying remainder() function:\n",
            "[1 0 2]\n"
          ]
        }
      ]
    }
  ]
}