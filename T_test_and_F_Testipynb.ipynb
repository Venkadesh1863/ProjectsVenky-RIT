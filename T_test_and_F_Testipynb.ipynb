{
  "nbformat": 4,
  "nbformat_minor": 0,
  "metadata": {
    "colab": {
      "provenance": [],
      "authorship_tag": "ABX9TyNs8e5bQioOo41svktNCaWU",
      "include_colab_link": true
    },
    "kernelspec": {
      "name": "python3",
      "display_name": "Python 3"
    },
    "language_info": {
      "name": "python"
    }
  },
  "cells": [
    {
      "cell_type": "markdown",
      "metadata": {
        "id": "view-in-github",
        "colab_type": "text"
      },
      "source": [
        "<a href=\"https://colab.research.google.com/github/Venkadesh1863/ProjectsVenky-RIT/blob/main/T_test_and_F_Testipynb.ipynb\" target=\"_parent\"><img src=\"https://colab.research.google.com/assets/colab-badge.svg\" alt=\"Open In Colab\"/></a>"
      ]
    },
    {
      "cell_type": "code",
      "execution_count": null,
      "metadata": {
        "colab": {
          "base_uri": "https://localhost:8080/"
        },
        "id": "a51sZJCqBEyZ",
        "outputId": "68411486-962d-44bd-d5bb-6a9b34ec740d"
      },
      "outputs": [
        {
          "output_type": "stream",
          "name": "stdout",
          "text": [
            "7.727500000000001 12.260000000000002\n"
          ]
        }
      ],
      "source": [
        "# Python program to display variance of data groups\n",
        "\n",
        "# Import library\n",
        "import scipy.stats as stats\n",
        "import numpy as np\n",
        "\n",
        "# Creating data groups\n",
        "data_group1 = np.array([14, 15, 15, 16, 13, 8, 14,\n",
        "                        17, 16, 14, 19, 20, 21, 15,\n",
        "                        15, 16, 16, 13, 14, 12])\n",
        "data_group2 = np.array([15, 17, 14, 17, 14, 8, 12,\n",
        "                        19, 19, 14, 17, 22, 24, 16,\n",
        "                        13, 16, 13, 18, 15, 13])\n",
        "\n",
        "# Print the variance of both data groups\n",
        "print(np.var(data_group1), np.var(data_group2))"
      ]
    },
    {
      "cell_type": "code",
      "source": [
        "# Python program to demonstrate how to\n",
        "# perform two sample T-test\n",
        "\n",
        "# Import the library\n",
        "import scipy.stats as stats\n",
        "import numpy as np\n",
        "\n",
        "# Creating data groups\n",
        "data_group1 = np.array([14, 15, 15, 16, 13, 8, 14,\n",
        "                        17, 16, 14, 19, 20, 21, 15,\n",
        "                        15, 16, 16, 13, 14, 12])\n",
        "\n",
        "data_group2 = np.array([15, 17, 14, 17, 14, 8, 12,\n",
        "                        19, 19, 14, 17, 22, 24, 16,\n",
        "                        13, 16, 13, 18, 15, 13])\n",
        "\n",
        "# Perform the two sample t-test with equal variances\n",
        "stats.ttest_ind(a=data_group1, b=data_group2, equal_var=True)"
      ],
      "metadata": {
        "colab": {
          "base_uri": "https://localhost:8080/"
        },
        "id": "H_rfE-38Bp8v",
        "outputId": "70f8c6f4-773f-4b97-adb0-6c114cf31c51"
      },
      "execution_count": null,
      "outputs": [
        {
          "output_type": "execute_result",
          "data": {
            "text/plain": [
              "Ttest_indResult(statistic=-0.6337397070250238, pvalue=0.5300471010405257)"
            ]
          },
          "metadata": {},
          "execution_count": 3
        }
      ]
    },
    {
      "cell_type": "code",
      "source": [
        "pip install pingouin"
      ],
      "metadata": {
        "colab": {
          "base_uri": "https://localhost:8080/"
        },
        "id": "txg1CjkKC3Ji",
        "outputId": "5aeb0fd7-36b8-4d5e-8b80-a45a9303caaa"
      },
      "execution_count": null,
      "outputs": [
        {
          "output_type": "stream",
          "name": "stdout",
          "text": [
            "Looking in indexes: https://pypi.org/simple, https://us-python.pkg.dev/colab-wheels/public/simple/\n",
            "Collecting pingouin\n",
            "  Downloading pingouin-0.5.3-py3-none-any.whl (198 kB)\n",
            "\u001b[2K     \u001b[90m━━━━━━━━━━━━━━━━━━━━━━━━━━━━━━━━━━━━━━━\u001b[0m \u001b[32m198.6/198.6 KB\u001b[0m \u001b[31m8.0 MB/s\u001b[0m eta \u001b[36m0:00:00\u001b[0m\n",
            "\u001b[?25hRequirement already satisfied: matplotlib>=3.0.2 in /usr/local/lib/python3.9/dist-packages (from pingouin) (3.7.1)\n",
            "Collecting outdated\n",
            "  Downloading outdated-0.2.2-py2.py3-none-any.whl (7.5 kB)\n",
            "Requirement already satisfied: tabulate in /usr/local/lib/python3.9/dist-packages (from pingouin) (0.8.10)\n",
            "Requirement already satisfied: statsmodels>=0.13 in /usr/local/lib/python3.9/dist-packages (from pingouin) (0.13.5)\n",
            "Requirement already satisfied: pandas>=1.0 in /usr/local/lib/python3.9/dist-packages (from pingouin) (1.4.4)\n",
            "Collecting pandas-flavor>=0.2.0\n",
            "  Downloading pandas_flavor-0.5.0-py3-none-any.whl (7.1 kB)\n",
            "Requirement already satisfied: scikit-learn in /usr/local/lib/python3.9/dist-packages (from pingouin) (1.2.2)\n",
            "Requirement already satisfied: scipy>=1.7 in /usr/local/lib/python3.9/dist-packages (from pingouin) (1.10.1)\n",
            "Requirement already satisfied: numpy>=1.19 in /usr/local/lib/python3.9/dist-packages (from pingouin) (1.22.4)\n",
            "Requirement already satisfied: seaborn>=0.11 in /usr/local/lib/python3.9/dist-packages (from pingouin) (0.12.2)\n",
            "Requirement already satisfied: fonttools>=4.22.0 in /usr/local/lib/python3.9/dist-packages (from matplotlib>=3.0.2->pingouin) (4.39.0)\n",
            "Requirement already satisfied: cycler>=0.10 in /usr/local/lib/python3.9/dist-packages (from matplotlib>=3.0.2->pingouin) (0.11.0)\n",
            "Requirement already satisfied: contourpy>=1.0.1 in /usr/local/lib/python3.9/dist-packages (from matplotlib>=3.0.2->pingouin) (1.0.7)\n",
            "Requirement already satisfied: kiwisolver>=1.0.1 in /usr/local/lib/python3.9/dist-packages (from matplotlib>=3.0.2->pingouin) (1.4.4)\n",
            "Requirement already satisfied: packaging>=20.0 in /usr/local/lib/python3.9/dist-packages (from matplotlib>=3.0.2->pingouin) (23.0)\n",
            "Requirement already satisfied: python-dateutil>=2.7 in /usr/local/lib/python3.9/dist-packages (from matplotlib>=3.0.2->pingouin) (2.8.2)\n",
            "Requirement already satisfied: importlib-resources>=3.2.0 in /usr/local/lib/python3.9/dist-packages (from matplotlib>=3.0.2->pingouin) (5.12.0)\n",
            "Requirement already satisfied: pyparsing>=2.3.1 in /usr/local/lib/python3.9/dist-packages (from matplotlib>=3.0.2->pingouin) (3.0.9)\n",
            "Requirement already satisfied: pillow>=6.2.0 in /usr/local/lib/python3.9/dist-packages (from matplotlib>=3.0.2->pingouin) (8.4.0)\n",
            "Requirement already satisfied: pytz>=2020.1 in /usr/local/lib/python3.9/dist-packages (from pandas>=1.0->pingouin) (2022.7.1)\n",
            "Requirement already satisfied: lazy-loader>=0.1 in /usr/local/lib/python3.9/dist-packages (from pandas-flavor>=0.2.0->pingouin) (0.1)\n",
            "Requirement already satisfied: xarray in /usr/local/lib/python3.9/dist-packages (from pandas-flavor>=0.2.0->pingouin) (2022.12.0)\n",
            "Requirement already satisfied: patsy>=0.5.2 in /usr/local/lib/python3.9/dist-packages (from statsmodels>=0.13->pingouin) (0.5.3)\n",
            "Collecting littleutils\n",
            "  Downloading littleutils-0.2.2.tar.gz (6.6 kB)\n",
            "  Preparing metadata (setup.py) ... \u001b[?25l\u001b[?25hdone\n",
            "Requirement already satisfied: requests in /usr/local/lib/python3.9/dist-packages (from outdated->pingouin) (2.27.1)\n",
            "Requirement already satisfied: setuptools>=44 in /usr/local/lib/python3.9/dist-packages (from outdated->pingouin) (63.4.3)\n",
            "Requirement already satisfied: threadpoolctl>=2.0.0 in /usr/local/lib/python3.9/dist-packages (from scikit-learn->pingouin) (3.1.0)\n",
            "Requirement already satisfied: joblib>=1.1.1 in /usr/local/lib/python3.9/dist-packages (from scikit-learn->pingouin) (1.1.1)\n",
            "Requirement already satisfied: zipp>=3.1.0 in /usr/local/lib/python3.9/dist-packages (from importlib-resources>=3.2.0->matplotlib>=3.0.2->pingouin) (3.15.0)\n",
            "Requirement already satisfied: six in /usr/local/lib/python3.9/dist-packages (from patsy>=0.5.2->statsmodels>=0.13->pingouin) (1.15.0)\n",
            "Requirement already satisfied: urllib3<1.27,>=1.21.1 in /usr/local/lib/python3.9/dist-packages (from requests->outdated->pingouin) (1.26.15)\n",
            "Requirement already satisfied: charset-normalizer~=2.0.0 in /usr/local/lib/python3.9/dist-packages (from requests->outdated->pingouin) (2.0.12)\n",
            "Requirement already satisfied: idna<4,>=2.5 in /usr/local/lib/python3.9/dist-packages (from requests->outdated->pingouin) (3.4)\n",
            "Requirement already satisfied: certifi>=2017.4.17 in /usr/local/lib/python3.9/dist-packages (from requests->outdated->pingouin) (2022.12.7)\n",
            "Building wheels for collected packages: littleutils\n",
            "  Building wheel for littleutils (setup.py) ... \u001b[?25l\u001b[?25hdone\n",
            "  Created wheel for littleutils: filename=littleutils-0.2.2-py3-none-any.whl size=7048 sha256=882ff9bbb23434b5bac2a8d70438c0a7486fd77b731fac7eee0ae5dd1dcf1c39\n",
            "  Stored in directory: /root/.cache/pip/wheels/04/bb/0d/2d02ec45f29c48d6192476bfb59c5a0e64b605e7212374dd15\n",
            "Successfully built littleutils\n",
            "Installing collected packages: littleutils, outdated, pandas-flavor, pingouin\n",
            "Successfully installed littleutils-0.2.2 outdated-0.2.2 pandas-flavor-0.5.0 pingouin-0.5.3\n"
          ]
        }
      ]
    },
    {
      "cell_type": "code",
      "source": [
        "# Python program to conduct two-sample\n",
        "# T-test using pingouin library\n",
        "\n",
        "# Importing library\n",
        "from statsmodels.stats.weightstats import ttest_ind\n",
        "import numpy as np\n",
        "import pingouin as pg\n",
        "\n",
        "# Creating data groups\n",
        "data_group1 = np.array([160, 150, 160, 156.12, 163.24,\n",
        "                        160.56, 168.56, 174.12,\n",
        "                        167.123, 165.12])\n",
        "data_group2 = np.array([157.97, 146, 140.2, 170.15,\n",
        "                        167.34, 176.123, 162.35, 159.123,\n",
        "                        169.43, 148.123])\n",
        "\n",
        "# Conducting two-sample ttest\n",
        "result = pg.ttest(data_group1,\n",
        "                  data_group2,\n",
        "                  correction=True)\n",
        "\n",
        "# Print the result\n",
        "print(result)"
      ],
      "metadata": {
        "colab": {
          "base_uri": "https://localhost:8080/"
        },
        "id": "hmQz6GC9B09u",
        "outputId": "371f8c75-5a0c-4bf3-ccdf-27d779be8305"
      },
      "execution_count": null,
      "outputs": [
        {
          "output_type": "stream",
          "name": "stdout",
          "text": [
            "               T        dof alternative     p-val           CI95%   cohen-d  \\\n",
            "T-test  0.653148  14.389477   two-sided  0.523961  [-6.38, 11.99]  0.292097   \n",
            "\n",
            "         BF10     power  \n",
            "T-test  0.462  0.094912  \n"
          ]
        }
      ]
    },
    {
      "cell_type": "code",
      "source": [
        "# Python program to conduct\n",
        "# two-sample t-test using statsmodels\n",
        "\n",
        "# Importing library\n",
        "from statsmodels.stats.weightstats import ttest_ind\n",
        "import numpy as np\n",
        "import pingouin as pg\n",
        "\n",
        "# Creating data groups\n",
        "data_group1 = np.array([160, 150, 160, 156.12,\n",
        "                        163.24,\n",
        "                        160.56, 168.56, 174.12,\n",
        "                        167.123, 165.12])\n",
        "data_group2 = np.array([157.97, 146, 140.2, 170.15,\n",
        "                        167.34, 176.123, 162.35,\n",
        "                        159.123, 169.43, 148.123])\n",
        "\n",
        "# Conducting two-sample ttest\n",
        "ttest_ind(data_group1, data_group2)"
      ],
      "metadata": {
        "colab": {
          "base_uri": "https://localhost:8080/"
        },
        "id": "067aYwYPDabT",
        "outputId": "ca6356c9-2af9-4ae0-fcb5-f8b4a9b51cfe"
      },
      "execution_count": null,
      "outputs": [
        {
          "output_type": "execute_result",
          "data": {
            "text/plain": [
              "(0.6531479162158739, 0.5219170107019715, 18.0)"
            ]
          },
          "metadata": {},
          "execution_count": 7
        }
      ]
    },
    {
      "cell_type": "code",
      "source": [
        "#Implementation of F test in python code\n",
        "import numpy as np\n",
        "import scipy.stats\n",
        "\n",
        "# Create data\n",
        "group1 = [0.28, 0.2, 0.26, 0.28, 0.5]\n",
        "group2 = [0.2, 0.23, 0.26, 0.21, 0.23]\n",
        "\n",
        "# converting the list to array\n",
        "x = np.array(group1)\n",
        "y = np.array(group2)\n",
        "\n",
        "# calculate variance of each group\n",
        "print(np.var(group1), np.var(group2))\n",
        "\n",
        "def f_test(group1, group2):\n",
        "    f = np.var(group1, ddof=1)/np.var(group2, ddof=1)\n",
        "    nun = x.size-1\n",
        "    dun = y.size-1\n",
        "    p_value = 1-scipy.stats.f.cdf(f, nun, dun)\n",
        "    return f, p_value\n",
        "\n",
        "# perform F-test\n",
        "f_test(x, y)"
      ],
      "metadata": {
        "colab": {
          "base_uri": "https://localhost:8080/"
        },
        "id": "0vgYfUooEdLy",
        "outputId": "9ee502c5-f7ef-426e-f39c-1199e3b7d11b"
      },
      "execution_count": null,
      "outputs": [
        {
          "output_type": "stream",
          "name": "stdout",
          "text": [
            "0.010464 0.00042400000000000017\n"
          ]
        },
        {
          "output_type": "execute_result",
          "data": {
            "text/plain": [
              "(24.679245283018858, 0.004431318383760985)"
            ]
          },
          "metadata": {},
          "execution_count": 8
        }
      ]
    }
  ]
}